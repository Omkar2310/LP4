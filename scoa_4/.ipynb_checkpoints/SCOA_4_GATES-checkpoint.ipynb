{
 "cells": [
  {
   "cell_type": "code",
   "execution_count": 2,
   "metadata": {},
   "outputs": [
    {
     "name": "stdout",
     "output_type": "stream",
     "text": [
      "Logic Function: AND\n",
      "X0\tX1\tX2\tY\n",
      "0\t0\t0\t0.0\n",
      "0\t0\t1\t0.0\n",
      "0\t1\t0\t0.0\n",
      "0\t1\t1\t0.0\n",
      "1\t0\t0\t0.0\n",
      "1\t0\t1\t0.0\n",
      "1\t1\t0\t0.0\n",
      "1\t1\t1\t1.0\n",
      "Logic Function: OR\n",
      "X0\tX1\tX2\tY\n",
      "0\t0\t0\t0.0\n",
      "0\t0\t1\t1.0\n",
      "0\t1\t0\t1.0\n",
      "0\t1\t1\t1.0\n",
      "1\t0\t0\t1.0\n",
      "1\t0\t1\t1.0\n",
      "1\t1\t0\t1.0\n",
      "1\t1\t1\t1.0\n"
     ]
    }
   ],
   "source": [
    "import numpy as np\n",
    "\n",
    "\n",
    "def perceptron(weights, inputs, bias):\n",
    "\n",
    "    model = np.add(np.dot(inputs, weights), bias)\n",
    "    logit = activation_function(model, type=\"sigmoid\")\n",
    "    return np.round(logit)\n",
    "\n",
    "\n",
    "def activation_function(model, type=\"sigmoid\"):\n",
    "\n",
    "    return {\n",
    "        \"sigmoid\": 1 / (1 + np.exp(-model))\n",
    "    }[type]\n",
    "\n",
    "\n",
    "def compute(data, logic_gate, weights, bias):\n",
    "    weights = np.array(weights)\n",
    "    output = np.array([ perceptron(weights, datum, bias) for datum in data ])\n",
    "\n",
    "    return output\n",
    "\n",
    "\n",
    "# This function is taken from https://github.com/fjcamillo/Neural-Representation-of-Logic-Functions/blob/master/Logic.py\n",
    "def print_template(dataset, name, data):\n",
    "    # act = name[6:]\n",
    "    print(\"Logic Function: {}\".format(name.upper()))\n",
    "    print(\"X0\\tX1\\tX2\\tY\")\n",
    "    toPrint = [\"{1}\\t{2}\\t{3}\\t{0}\".format(output, *datas) for datas, output in zip(dataset, data)]\n",
    "    for i in toPrint:\n",
    "        print(i)\n",
    "\n",
    "\n",
    "def main():\n",
    "    dataset = np.array([\n",
    "      [0, 0, 0],\n",
    "      [0, 0, 1],\n",
    "      [0, 1, 0],\n",
    "      [0, 1, 1],\n",
    "      [1, 0, 0],\n",
    "      [1, 0, 1],\n",
    "      [1, 1, 0],\n",
    "      [1, 1, 1]\n",
    "    ])\n",
    "    gates = {\n",
    "        \"and\": compute(dataset, \"and\", [1, 1, 1], -2),\n",
    "        \"or\": compute(dataset, \"or\", [1, 1, 1], -0.9),\n",
    "    }\n",
    "\n",
    "    for gate in gates:\n",
    "        print_template(dataset, gate, gates[gate])\n",
    "\n",
    "\n",
    "\n",
    "if __name__ == '__main__':\n",
    "    main()"
   ]
  },
  {
   "cell_type": "code",
   "execution_count": null,
   "metadata": {},
   "outputs": [],
   "source": []
  },
  {
   "cell_type": "code",
   "execution_count": null,
   "metadata": {},
   "outputs": [],
   "source": []
  },
  {
   "cell_type": "code",
   "execution_count": null,
   "metadata": {},
   "outputs": [],
   "source": []
  },
  {
   "cell_type": "code",
   "execution_count": null,
   "metadata": {},
   "outputs": [],
   "source": []
  },
  {
   "cell_type": "code",
   "execution_count": null,
   "metadata": {},
   "outputs": [],
   "source": []
  },
  {
   "cell_type": "code",
   "execution_count": null,
   "metadata": {},
   "outputs": [],
   "source": []
  },
  {
   "cell_type": "code",
   "execution_count": null,
   "metadata": {},
   "outputs": [],
   "source": []
  },
  {
   "cell_type": "code",
   "execution_count": null,
   "metadata": {},
   "outputs": [],
   "source": []
  }
 ],
 "metadata": {
  "kernelspec": {
   "display_name": "Python 3",
   "language": "python",
   "name": "python3"
  },
  "language_info": {
   "codemirror_mode": {
    "name": "ipython",
    "version": 3
   },
   "file_extension": ".py",
   "mimetype": "text/x-python",
   "name": "python",
   "nbconvert_exporter": "python",
   "pygments_lexer": "ipython3",
   "version": "3.7.6"
  }
 },
 "nbformat": 4,
 "nbformat_minor": 4
}
